{
 "cells": [
  {
   "cell_type": "code",
   "execution_count": null,
   "metadata": {},
   "outputs": [],
   "source": [
    "import numpy as np\n",
    "import time\n",
    "import matplotlib\n",
    "import matplotlib.pyplot as plt\n",
    "\n",
    "import gym\n",
    "from gym import logger\n",
    "\n",
    "import matching_bandit\n",
    "from matching_bandit.agents.escb import ESCB\n",
    "from matching_bandit.agents.simple_adaptive_matching import MDC\n",
    "from matching_bandit.utils.bandit_sim import matching_selection_sim\n",
    "from matching_bandit.utils.p_dist import centered_equal_distance\n",
    "\n",
    "logger.set_level(logger.INFO)"
   ]
  },
  {
   "cell_type": "markdown",
   "metadata": {},
   "source": [
    "## Parameter setting\n",
    "\n",
    "centered distributed with equal distance"
   ]
  },
  {
   "cell_type": "code",
   "execution_count": null,
   "metadata": {},
   "outputs": [],
   "source": [
    "reps = 10 # number of repeated runs for a single agent\n",
    "horizon = 2000000\n",
    "\n",
    "Ns = [2, 3, 4]\n",
    "Delta = 0.1\n",
    "\n",
    "t = time.time()\n",
    "for N in Ns:\n",
    "    p_dist = centered_equal_distance(N, Delta)\n",
    "    agents = [ESCB(n_pairs=N)]\n",
    "    results = matching_selection_sim(agents, p_dist, horizon, reps)\n",
    "    print(results)\n",
    "        \n",
    "print('------------- Escaped time is {0} seconds -------------'.format(time.time() - t))"
   ]
  },
  {
   "cell_type": "code",
   "execution_count": null,
   "metadata": {},
   "outputs": [],
   "source": []
  }
 ],
 "metadata": {
  "kernelspec": {
   "display_name": "Python 3",
   "language": "python",
   "name": "python3"
  },
  "language_info": {
   "codemirror_mode": {
    "name": "ipython",
    "version": 3
   },
   "file_extension": ".py",
   "mimetype": "text/x-python",
   "name": "python",
   "nbconvert_exporter": "python",
   "pygments_lexer": "ipython3",
   "version": "3.8.5"
  }
 },
 "nbformat": 4,
 "nbformat_minor": 4
}
