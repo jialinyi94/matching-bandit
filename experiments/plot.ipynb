{
 "cells": [
  {
   "cell_type": "code",
   "execution_count": 1,
   "metadata": {},
   "outputs": [],
   "source": [
    "import numpy as np\n",
    "import matplotlib.pyplot as plt"
   ]
  },
  {
   "cell_type": "code",
   "execution_count": 2,
   "metadata": {},
   "outputs": [],
   "source": [
    "def set_size(width, fraction=1):\n",
    "    \"\"\"Set figure dimensions to avoid scaling in LaTeX.\n",
    "\n",
    "    Parameters\n",
    "    ----------\n",
    "    width: float\n",
    "            Document textwidth or columnwidth in pts\n",
    "    fraction: float, optional\n",
    "            Fraction of the width which you wish the figure to occupy\n",
    "\n",
    "    Returns\n",
    "    -------\n",
    "    fig_dim: tuple\n",
    "            Dimensions of figure in inches\n",
    "    \"\"\"\n",
    "    # Width of figure (in pts)\n",
    "    fig_width_pt = width * fraction\n",
    "\n",
    "    # Convert from pt to inches\n",
    "    inches_per_pt = 1 / 72.27\n",
    "\n",
    "    # Golden ratio to set aesthetic figure height\n",
    "    # https://disq.us/p/2940ij3\n",
    "    golden_ratio = (5**.5 - 1) / 2\n",
    "\n",
    "    # Figure width in inches\n",
    "    fig_width_in = fig_width_pt * inches_per_pt\n",
    "    # Figure height in inches\n",
    "    fig_height_in = fig_width_in * golden_ratio\n",
    "\n",
    "    fig_dim = (fig_width_in, fig_height_in)\n",
    "\n",
    "    return fig_dim"
   ]
  },
  {
   "cell_type": "code",
   "execution_count": 3,
   "metadata": {},
   "outputs": [],
   "source": [
    "width = 345\n",
    "tex_fonts = {\n",
    "    # Use LaTeX to write all text\n",
    "    #\"text.usetex\": True,\n",
    "    \"font.family\": \"serif\",\n",
    "    # Use 10pt font in plots, to match 10pt font in document\n",
    "    \"axes.labelsize\": 12,\n",
    "    \"font.size\": 12,\n",
    "    # Make the legend/label fonts a little smaller\n",
    "    \"legend.fontsize\": 11,\n",
    "    \"xtick.labelsize\": 8.5,\n",
    "    \"ytick.labelsize\": 8.5\n",
    "}\n",
    "\n",
    "plt.rcParams.update(tex_fonts)"
   ]
  },
  {
   "cell_type": "markdown",
   "metadata": {},
   "source": [
    "# Pair1Elim"
   ]
  },
  {
   "cell_type": "markdown",
   "metadata": {},
   "source": [
    "## 0. Regret curve"
   ]
  },
  {
   "cell_type": "code",
   "execution_count": 4,
   "metadata": {},
   "outputs": [],
   "source": [
    "horizon = 200000 \n",
    "ticks = np.linspace(horizon/10, horizon, num=10)\n",
    "\n",
    "pair_elim = {}\n",
    "pair_elim['mean'] = np.array([14229.685719  , 15644.1312313 , 15644.1312313 , 17572.54738183,\n",
    "       17572.54738183, 17572.54738183, 17572.54738183, 17572.54738183,\n",
    "       17572.54738183, 17572.54738183])\n",
    "pair_elim['5pct'] = np.array([12371.155281  , 12371.155281  , 12371.155281  , 14166.44280538,\n",
    "       14166.44280538, 14166.44280538, 14166.44280538, 14166.44280538,\n",
    "       14166.44280538, 14166.44280538])\n",
    "pair_elim['95pct'] = np.array([14730.04556037, 18245.1991872 , 18245.1991872 , 20720.08302884,\n",
    "       20720.08302884, 20720.08302884, 20720.08302884, 20720.08302884,\n",
    "       20720.08302884, 20720.08302884])\n",
    "\n",
    "rank1elim = {}\n",
    "rank1elim['mean'] = np.array([14633.35813958, 29211.4247638 , 36173.27499828, 36173.27499828,\n",
    "       36173.27499828, 36173.27499828, 36173.27499828, 36173.27499828,\n",
    "       36173.27499828, 36173.27499828])\n",
    "rank1elim['5pct'] = np.array([14489.1923854 , 28726.00715747, 34192.96110515, 34192.96110515,\n",
    "       34192.96110515, 34192.96110515, 34192.96110515, 34192.96110515,\n",
    "       34192.96110515, 34192.96110515])\n",
    "rank1elim['95pct'] = np.array([14699.93638046, 29385.39216507, 36728.25801258, 36728.25801258,\n",
    "       36728.25801258, 36728.25801258, 36728.25801258, 36728.25801258,\n",
    "       36728.25801258, 36728.25801258])"
   ]
  },
  {
   "cell_type": "code",
   "execution_count": 5,
   "metadata": {},
   "outputs": [
    {
     "data": {
      "image/png": "[encoded data removed]",
      "text/plain": [
       "<Figure size 343.711x212.425 with 1 Axes>"
      ]
     },
     "metadata": {
      "needs_background": "light"
     },
     "output_type": "display_data"
    }
   ],
   "source": [
    "fig, ax0 = plt.subplots(1, 1, figsize=set_size(width))\n",
    "# PairElim\n",
    "ax0.plot(\n",
    "    ticks,\n",
    "    pair_elim['mean'],\n",
    "    marker='o',\n",
    "    label='PairElim'\n",
    ")\n",
    "ax0.fill_between(\n",
    "    ticks,\n",
    "    pair_elim['5pct'],\n",
    "    pair_elim['95pct'],\n",
    "    alpha=0.2\n",
    ")\n",
    "\n",
    "# Rank1Elim\n",
    "ax0.plot(\n",
    "    ticks,\n",
    "    rank1elim['mean'],\n",
    "    marker='o',\n",
    "    label='Rank1Elim'\n",
    ")\n",
    "ax0.fill_between(\n",
    "    ticks,\n",
    "    rank1elim['5pct'],\n",
    "    rank1elim['95pct'],\n",
    "    alpha=0.2\n",
    ")\n",
    "ax0.set_ylabel(r\"$R(T)$\")\n",
    "ax0.set_xlabel(r\"$T$\")\n",
    "ax0.legend(loc='center right') # lower right\n",
    "plt.xticks([50000, 100000, 150000, 200000])\n",
    "plt.show()\n",
    "fig.savefig('../figures/comparison.pdf', format='pdf', bbox_inches='tight')"
   ]
  },
  {
   "cell_type": "markdown",
   "metadata": {},
   "source": [
    "## 1. Varying $u_1$, $\\Delta$ fixed"
   ]
  },
  {
   "cell_type": "code",
   "execution_count": 6,
   "metadata": {},
   "outputs": [],
   "source": [
    "p_max = np.linspace(0.3, 0.9, num=7)\n",
    "pair_elim = {}\n",
    "pair_elim['mean'] = np.array([176498, 107310, 66089, 38424, 28451, 19566, 13354])\n",
    "pair_elim['5pct'] = np.array([169345, 90661, 60903, 30099, 28001, 17543, 11343])\n",
    "pair_elim['95pct'] = np.array([188512, 123339, 71296, 44492, 30032, 21784, 15271])\n",
    "rank1elim = {}\n",
    "rank1elim['mean'] = np.array([252706, 117424, 85838, 56813, 36797, 38762, 22219])\n",
    "rank1elim['5pct'] = np.array([252667, 105741, 71271, 51962, 36473, 32638, 16854])\n",
    "rank1elim['95pct'] = np.array([252755, 125465, 98753, 62853, 36888, 43471, 26760])\n",
    "ratio = {}\n",
    "ratio['mean'] = rank1elim['mean'] / pair_elim['mean']\n",
    "ratio['5pct'] = rank1elim['5pct'] / pair_elim['95pct']\n",
    "ratio['95pct'] = rank1elim['95pct'] / pair_elim['5pct']"
   ]
  },
  {
   "cell_type": "markdown",
   "metadata": {},
   "source": [
    "### Regret"
   ]
  },
  {
   "cell_type": "code",
   "execution_count": 7,
   "metadata": {},
   "outputs": [
    {
     "data": {
      "image/png": "[encoded data removed]",
      "text/plain": [
       "<Figure size 343.711x212.425 with 1 Axes>"
      ]
     },
     "metadata": {
      "needs_background": "light"
     },
     "output_type": "display_data"
    }
   ],
   "source": [
    "fig , ax1 = plt.subplots(1, 1, figsize=set_size(width))\n",
    "## plot Pair-Elim\n",
    "ax1.errorbar(p_max, \n",
    "             pair_elim['mean'],\n",
    "             yerr=[pair_elim['mean'] - pair_elim['5pct'],\n",
    "                  pair_elim['95pct'] - pair_elim['mean']],\n",
    "             label='PairElim',\n",
    "             fmt='o', color='C0', ecolor='lightsteelblue', elinewidth=3, capsize=0)\n",
    "## plot Rank1Elim\n",
    "ax1.errorbar(p_max, \n",
    "             rank1elim['mean'],\n",
    "             yerr=[rank1elim['mean'] - rank1elim['5pct'],\n",
    "                  rank1elim['95pct'] - rank1elim['mean']],\n",
    "             label='Rank1Elim',\n",
    "             fmt='o', color='C1', ecolor='bisque', elinewidth=3, capsize=0)\n",
    "## axes\n",
    "ax1.set_ylabel(r\"$R(T)$\")\n",
    "ax1.set_xlabel(r\"$u_1$\")\n",
    "ax1.legend(loc=1) # lower right\n",
    "plt.show()\n",
    "fig.savefig('../figures/p_bar_regret.pdf', format='pdf', bbox_inches='tight')"
   ]
  },
  {
   "cell_type": "markdown",
   "metadata": {},
   "source": [
    "### Ratio"
   ]
  },
  {
   "cell_type": "code",
   "execution_count": 8,
   "metadata": {},
   "outputs": [
    {
     "data": {
      "image/png": "[encoded data removed]",
      "text/plain": [
       "<Figure size 343.711x212.425 with 1 Axes>"
      ]
     },
     "metadata": {
      "needs_background": "light"
     },
     "output_type": "display_data"
    }
   ],
   "source": [
    "# Ratio\n",
    "fig , ax2 = plt.subplots(1, 1, figsize=set_size(width))\n",
    "## plot Pair-Elim\n",
    "ax2.errorbar(p_max, \n",
    "             ratio['mean'],\n",
    "             yerr=[ratio['mean'] - ratio['5pct'],\n",
    "                  ratio['95pct'] - ratio['mean']],\n",
    "             fmt='o', color='black', ecolor='lightgray', elinewidth=3, capsize=0)\n",
    "ax2.plot(p_max, [1]*len(p_max), linestyle='--', color='grey')\n",
    "ax2.set_ylabel(r'$R_{Rank1Elim}$ / $R_{PairElim}$')\n",
    "ax2.set_xlabel(r\"$u_1$\")\n",
    "\n",
    "plt.show()\n",
    "fig.savefig('../figures/p_bar_ratio.pdf', format='pdf', bbox_inches='tight')"
   ]
  },
  {
   "cell_type": "markdown",
   "metadata": {},
   "source": [
    "## 2. Varying $\\Delta$, $u_1$ fixed"
   ]
  },
  {
   "cell_type": "code",
   "execution_count": 9,
   "metadata": {},
   "outputs": [],
   "source": [
    "gamma = np.linspace(0.1, 0.8, num=8)\n",
    "u1 = 0.9\n",
    "delta = (u1+gamma) / 2\n",
    "\n",
    "pair_elim = {}\n",
    "pair_elim['mean'] = np.array([15332, 15556, 15484, 15175, 17276, 18755, 19771, 19604])\n",
    "pair_elim['5pct'] = np.array([13230, 14263, 13590, 13638, 13405, 15214, 17769, 17534])\n",
    "pair_elim['95pct'] = np.array([17222, 17255, 17530, 17163, 21783, 20884, 22068, 21129])\n",
    "rank1elim = {}\n",
    "rank1elim['mean'] = np.array([15921, 20060, 20405, 30139, 34432, 37950, 40339, 45256])\n",
    "rank1elim['5pct'] = np.array([15368, 18518, 16597, 22022, 28070, 35732, 39579, 40443])\n",
    "rank1elim['95pct'] = np.array([17539, 23295, 22733, 34471, 38417, 38386, 46582, 57272])\n",
    "ratio = {}\n",
    "ratio['mean'] = rank1elim['mean'] / pair_elim['mean']\n",
    "ratio['5pct'] = rank1elim['5pct'] / pair_elim['95pct']\n",
    "ratio['95pct'] = rank1elim['95pct'] / pair_elim['5pct']"
   ]
  },
  {
   "cell_type": "markdown",
   "metadata": {},
   "source": [
    "### Regret"
   ]
  },
  {
   "cell_type": "code",
   "execution_count": 10,
   "metadata": {},
   "outputs": [
    {
     "data": {
      "image/png": "[encoded data removed]",
      "text/plain": [
       "<Figure size 343.711x212.425 with 1 Axes>"
      ]
     },
     "metadata": {
      "needs_background": "light"
     },
     "output_type": "display_data"
    }
   ],
   "source": [
    "# Regret\n",
    "fig , ax1 = plt.subplots(1, 1, figsize=set_size(width))\n",
    "## plot Pair-Elim\n",
    "ax1.errorbar(delta, \n",
    "             pair_elim['mean'],\n",
    "             yerr=[pair_elim['mean'] - pair_elim['5pct'],\n",
    "                  pair_elim['95pct'] - pair_elim['mean']],\n",
    "             label='PairElim',\n",
    "             fmt='o', color='C0', ecolor='lightsteelblue', elinewidth=3, capsize=0)\n",
    "## plot Rank1Elim\n",
    "ax1.errorbar(delta, \n",
    "             rank1elim['mean'],\n",
    "             yerr=[rank1elim['mean'] - rank1elim['5pct'],\n",
    "                  rank1elim['95pct'] - rank1elim['mean']],\n",
    "             label='Rank1Elim',\n",
    "             fmt='o', color='C1', ecolor='bisque', elinewidth=3, capsize=0)\n",
    "## axes\n",
    "ax1.set_ylabel(r\"$R(T)$\")\n",
    "ax1.set_xlabel(r\"$\\Delta$\")\n",
    "ax1.legend(loc=2) # lower right\n",
    "plt.show()\n",
    "fig.savefig('../figures/delta_regret.pdf', format='pdf', bbox_inches='tight')"
   ]
  },
  {
   "cell_type": "markdown",
   "metadata": {},
   "source": [
    "### Ratio"
   ]
  },
  {
   "cell_type": "code",
   "execution_count": 11,
   "metadata": {},
   "outputs": [
    {
     "data": {
      "image/png": "[encoded data removed]",
      "text/plain": [
       "<Figure size 343.711x212.425 with 1 Axes>"
      ]
     },
     "metadata": {
      "needs_background": "light"
     },
     "output_type": "display_data"
    }
   ],
   "source": [
    "# Ratio\n",
    "fig , ax2 = plt.subplots(1, 1, figsize=set_size(width))\n",
    "## plot Pair-Elim\n",
    "ax2.errorbar(delta, \n",
    "             ratio['mean'],\n",
    "             yerr=[ratio['mean'] - ratio['5pct'],\n",
    "                  ratio['95pct'] - ratio['mean']],\n",
    "             fmt='o', color='black', ecolor='lightgray', elinewidth=3, capsize=0)\n",
    "ax2.plot(delta, [1]*len(delta), linestyle='--', color='grey')\n",
    "ax2.set_ylabel(r'$R_{Rank1Elim}$ / $R_{PairElim}$')\n",
    "ax2.set_xlabel(r\"$\\Delta$\")\n",
    "\n",
    "plt.show()\n",
    "fig.savefig('../figures/delta_ratio.pdf', format='pdf', bbox_inches='tight')"
   ]
  },
  {
   "cell_type": "markdown",
   "metadata": {},
   "source": [
    "## 3. Varying $u_1$, $\\mu$ fixed"
   ]
  },
  {
   "cell_type": "code",
   "execution_count": 12,
   "metadata": {},
   "outputs": [],
   "source": [
    "u1s = np.linspace(0.4, 0.9, num=6)\n",
    "\n",
    "pair_elim = {}\n",
    "pair_elim['mean'] = np.array([58838, 55810, 43000, 27791, 18459, 20225])\n",
    "pair_elim['5pct'] = np.array([55714, 53340, 40965, 24807, 15159, 17939])\n",
    "pair_elim['95pct'] = np.array([63293, 57449, 45136, 29776, 21497, 22130])\n",
    "rank1elim = {}\n",
    "rank1elim['mean'] = np.array([76679, 101346, 95047, 65419, 50280, 44827])\n",
    "rank1elim['5pct'] = np.array([75737, 96426, 94932, 55888, 38716, 43585])\n",
    "rank1elim['95pct'] = np.array([84693, 107335, 95647, 73517, 56502, 51977])\n",
    "ratio = {}\n",
    "ratio['mean'] = rank1elim['mean'] / pair_elim['mean']\n",
    "ratio['5pct'] = rank1elim['5pct'] / pair_elim['95pct']\n",
    "ratio['95pct'] = rank1elim['95pct'] / pair_elim['5pct']"
   ]
  },
  {
   "cell_type": "code",
   "execution_count": 13,
   "metadata": {},
   "outputs": [
    {
     "data": {
      "image/png": "[encoded data removed]",
      "text/plain": [
       "<Figure size 343.711x212.425 with 1 Axes>"
      ]
     },
     "metadata": {
      "needs_background": "light"
     },
     "output_type": "display_data"
    }
   ],
   "source": [
    "# Regret\n",
    "fig, ax1 = plt.subplots(1, 1, figsize=set_size(width))\n",
    "## plot Pair-Elim\n",
    "ax1.errorbar(u1s, \n",
    "             pair_elim['mean'],\n",
    "             yerr=[pair_elim['mean'] - pair_elim['5pct'],\n",
    "                  pair_elim['95pct'] - pair_elim['mean']],\n",
    "             label='PairElim',\n",
    "             fmt='o', color='C0', ecolor='lightsteelblue', elinewidth=3, capsize=0)\n",
    "## plot Rank1Elim\n",
    "ax1.errorbar(u1s, \n",
    "             rank1elim['mean'],\n",
    "             yerr=[rank1elim['mean'] - rank1elim['5pct'],\n",
    "                  rank1elim['95pct'] - rank1elim['mean']],\n",
    "             label='Rank1Elim',\n",
    "             fmt='o', color='C1', ecolor='bisque', elinewidth=3, capsize=0)\n",
    "\n",
    "## axes\n",
    "ax1.set_ylabel(r\"$R(T)$\")\n",
    "ax1.set_xlabel(r\"$u_1$\")\n",
    "ax1.legend(loc=1) # lower right\n",
    "plt.show()\n",
    "fig.savefig('../figures/u1_regret.pdf', format='pdf', bbox_inches='tight')"
   ]
  },
  {
   "cell_type": "code",
   "execution_count": 14,
   "metadata": {},
   "outputs": [
    {
     "data": {
      "image/png": "[encoded data removed]",
      "text/plain": [
       "<Figure size 343.711x212.425 with 1 Axes>"
      ]
     },
     "metadata": {
      "needs_background": "light"
     },
     "output_type": "display_data"
    }
   ],
   "source": [
    "# Ratio\n",
    "fig, ax2 = plt.subplots(1, 1, figsize=set_size(width))\n",
    "## plot Pair-Elim\n",
    "ax2.errorbar(u1s, \n",
    "             ratio['mean'],\n",
    "             yerr=[ratio['mean'] - ratio['5pct'],\n",
    "                  ratio['95pct'] - ratio['mean']],\n",
    "             fmt='o', color='black', ecolor='lightgray', elinewidth=3, capsize=0)\n",
    "ax2.plot(u1s, [1]*len(u1s), linestyle='--', color='grey')\n",
    "ax2.set_ylabel(r'$R_{Rank1Elim}$ / $R_{PairElim}$')\n",
    "ax2.set_xlabel(r\"$u_1$\")\n",
    "plt.show()\n",
    "fig.savefig('../figures/u1_ratio.pdf', format='pdf', bbox_inches='tight')"
   ]
  },
  {
   "cell_type": "markdown",
   "metadata": {},
   "source": [
    "# Matching selection\n",
    "## Comparison with ESCB\n",
    "\n",
    "$u = [0.35, 0.35, 0.45, 0.45, 0.55, 0.55, 0.65, 0.65]$"
   ]
  },
  {
   "cell_type": "code",
   "execution_count": 15,
   "metadata": {},
   "outputs": [],
   "source": [
    "horizon = 200000\n",
    "ticks = np.linspace(horizon/10, horizon, num=10)\n",
    "\n",
    "mdc = {}\n",
    "mdc['mean'] = np.array([571.5   , 1136.2545, 1497.2615, 1591.6885, 1631.6345, 1634.571 ,\n",
    "       1634.571 , 1634.571 , 1634.571 , 1634.571])\n",
    "mdc['5pct'] = np.array([571.5   , 1136.2545, 1331.1485, 1398.3125, 1464.8125, 1502.651 ,\n",
    "       1502.651 , 1502.651 , 1502.651 , 1502.651])\n",
    "mdc['95pct'] = np.array([571.5   , 1142.88  , 1638.7435, 1753.816 , 1809.3045, 1809.824 ,\n",
    "       1809.824 , 1809.824 , 1809.824 , 1809.824 ])\n",
    "\n",
    "escb = {}\n",
    "escb['mean'] = np.array([ 527.256 ,  856.8385, 1142.2175, 1412.284 , 1631.4915, 1809.4935,\n",
    "       1975.9875, 2157.9585, 2311.4455, 2451.1765])\n",
    "escb['5pct'] = np.array([ 419.5685,  672.338 ,  912.2965, 1162.5485, 1337.93  , 1454.629 ,\n",
    "       1615.9885, 1775.124 , 1917.2415, 2044.2585])\n",
    "escb['95pct'] = np.array([ 610.7545    ,  991.1595    , 1332.4475    , 1734.15      ,\n",
    "       2010.378     , 2203.7245    , 2331.329     , 2455.5295    ,\n",
    "       2686.88650001, 2823.44600001])"
   ]
  },
  {
   "cell_type": "code",
   "execution_count": 16,
   "metadata": {},
   "outputs": [
    {
     "data": {
      "image/png": "[encoded data removed]",
      "text/plain": [
       "<Figure size 343.711x212.425 with 1 Axes>"
      ]
     },
     "metadata": {
      "needs_background": "light"
     },
     "output_type": "display_data"
    }
   ],
   "source": [
    "fig, ax0 = plt.subplots(1, 1, figsize=set_size(width))\n",
    "# PairElim\n",
    "ax0.plot(\n",
    "    ticks,\n",
    "    mdc['mean'],\n",
    "    marker='o',\n",
    "    label='SAM'\n",
    ")\n",
    "ax0.fill_between(\n",
    "    ticks,\n",
    "    mdc['5pct'],\n",
    "    mdc['95pct'],\n",
    "    alpha=0.2\n",
    ")\n",
    "\n",
    "# Rank1Elim\n",
    "ax0.plot(\n",
    "    ticks,\n",
    "    escb['mean'],\n",
    "    marker='o',\n",
    "    label='ESCB'\n",
    ")\n",
    "ax0.fill_between(\n",
    "    ticks,\n",
    "    escb['5pct'],\n",
    "    escb['95pct'],\n",
    "    alpha=0.2\n",
    ")\n",
    "ax0.set_ylabel(r\"$R(T)$\")\n",
    "ax0.set_xlabel(r\"$T$\")\n",
    "ax0.legend(loc=2) # lower right\n",
    "plt.xticks([50000, 100000, 150000, 200000])\n",
    "plt.show()\n",
    "fig.savefig('../figures/matching_comparison.pdf', format='pdf', bbox_inches='tight')"
   ]
  },
  {
   "cell_type": "code",
   "execution_count": 17,
   "metadata": {},
   "outputs": [],
   "source": [
    "Ns_mdc = [2, 3, 4, 5, 6, 7, 8]\n",
    "Ns_escb = [2, 3, 4]\n",
    "\n",
    "scaling_mdc = 1\n",
    "scaling_escb = 1\n",
    "\n",
    "\n",
    "mdc = {}\n",
    "mdc['mean'] = np.array([304, 829, 1634, 2957, 4673, 7002, 9926]) / scaling_mdc\n",
    "mdc['5pct'] = np.array([254, 730, 1502, 2744, 4311, 6685, 9165]) / scaling_mdc\n",
    "mdc['95pct'] = np.array([357, 938, 1809, 3142, 4989, 7367, 10687]) / scaling_mdc\n",
    "escb = {}\n",
    "escb['mean'] = np.array([2018, 4152, 6211]) / scaling_escb\n",
    "escb['5pct'] = np.array([1749, 3605, 5646]) / scaling_escb\n",
    "escb['95pct'] = np.array([2289, 4863, 6998]) / scaling_escb"
   ]
  },
  {
   "cell_type": "code",
   "execution_count": 18,
   "metadata": {},
   "outputs": [
    {
     "data": {
      "image/png": "[encoded data removed]",
      "text/plain": [
       "<Figure size 343.711x212.425 with 1 Axes>"
      ]
     },
     "metadata": {
      "needs_background": "light"
     },
     "output_type": "display_data"
    }
   ],
   "source": [
    "# scaling\n",
    "fig, ax = plt.subplots(1, 1, figsize=set_size(width))\n",
    "## plot Pair-Elim\n",
    "ax.errorbar(Ns_mdc, \n",
    "            mdc['mean'],\n",
    "            yerr=[mdc['mean'] - mdc['5pct'],\n",
    "                  mdc['95pct'] - mdc['mean']],\n",
    "            label='SAM',\n",
    "            fmt='o', color='C0', ecolor='lightsteelblue', elinewidth=3, capsize=0)\n",
    "\n",
    "ax.errorbar(Ns_escb, \n",
    "            escb['mean'],\n",
    "            yerr=[escb['mean'] - escb['5pct'],\n",
    "                  escb['95pct'] - escb['mean']],\n",
    "            label='ESCB',\n",
    "            fmt='o', color='C1', ecolor='bisque', elinewidth=3, capsize=0)\n",
    "\n",
    "ax.set_ylabel(r\"$R(T)$\")\n",
    "ax.set_xlabel(r\"$N$\")\n",
    "plt.xticks(Ns_mdc, Ns_mdc)\n",
    "ax.legend(loc=2)\n",
    "plt.show()\n",
    "#fig.savefig('../figures/matching_N.pdf', format='pdf', bbox_inches='tight')"
   ]
  },
  {
   "cell_type": "code",
   "execution_count": 4,
   "metadata": {},
   "outputs": [],
   "source": [
    "all_mu = [0.5, 0.6, 0.7, 0.8]\n",
    "Delta = 0.1\n",
    "N = 4\n",
    "scaling = 1\n",
    "\n",
    "\n",
    "\n",
    "mdc = {}\n",
    "mdc['mean'] = np.array([1634, 1245, 900, 689]) * scaling\n",
    "mdc['5pct'] = np.array([1502, 1098, 772, 615]) * scaling\n",
    "mdc['95pct'] = np.array([1809, 1414, 999, 772]) * scaling\n",
    "escb = {}\n",
    "escb['mean'] = np.array([2451, 2376, 2437, 2400]) * scaling\n",
    "escb['5pct'] = np.array([2044, 2088, 2160, 2071]) * scaling\n",
    "escb['95pct'] = np.array([2823, 2658, 2831, 2860]) * scaling"
   ]
  },
  {
   "cell_type": "code",
   "execution_count": 6,
   "metadata": {},
   "outputs": [
    {
     "data": {
      "image/png": "[encoded data removed]",
      "text/plain": [
       "<Figure size 343.711x212.425 with 1 Axes>"
      ]
     },
     "metadata": {
      "needs_background": "light"
     },
     "output_type": "display_data"
    }
   ],
   "source": [
    "# scaling\n",
    "fig, ax = plt.subplots(1, 1, figsize=set_size(width))\n",
    "## plot Pair-Elim\n",
    "ax.errorbar(all_mu, \n",
    "            mdc['mean'],\n",
    "            yerr=[mdc['mean'] - mdc['5pct'],\n",
    "                  mdc['95pct'] - mdc['mean']],\n",
    "            label='SAM',\n",
    "            fmt='o', color='C0', ecolor='lightsteelblue', elinewidth=3, capsize=0)\n",
    "\n",
    "ax.errorbar(all_mu, \n",
    "            escb['mean'],\n",
    "            yerr=[escb['mean'] - escb['5pct'],\n",
    "                  escb['95pct'] - escb['mean']],\n",
    "            label='ESCB',\n",
    "            fmt='o', color='C1', ecolor='bisque', elinewidth=3, capsize=0)\n",
    "\n",
    "ax.set_ylabel(r\"$R(T)$\")\n",
    "ax.set_xlabel(r\"$\\mu$\")\n",
    "plt.xticks(all_mu, all_mu)\n",
    "ax.legend(loc= 'center right')\n",
    "plt.show()\n",
    "fig.savefig('../figures/matching_mu.pdf', format='pdf', bbox_inches='tight')"
   ]
  },
  {
   "cell_type": "markdown",
   "metadata": {},
   "source": [
    "## Scaling with repect to $N\\log N$"
   ]
  },
  {
   "cell_type": "markdown",
   "metadata": {},
   "source": [
    "origin equal distance"
   ]
  },
  {
   "cell_type": "code",
   "execution_count": 21,
   "metadata": {},
   "outputs": [],
   "source": [
    "Ns_mdc = [2, 3, 4, 5, 6, 7, 8, 9, 10, 11]\n",
    "Delta = 0.1\n",
    "horizon = 200000\n",
    "\n",
    "scaling_mdc = Delta**2\n",
    "upper_bound = np.array(Ns_mdc)*(np.log(Ns_mdc)) * np.log(horizon)\n",
    "\n",
    "mdc = {}\n",
    "\n",
    "mdc['mean'] = np.array([1333, 4800, 11386, 13281, 14488, 15996, 17759, 19456, 21775, 23252]) * scaling_mdc\n",
    "mdc['5pct'] = np.array([1333, 4800, 11301, 12656, 13955, 15232, 17033, 18548, 20308, 21993]) * scaling_mdc\n",
    "mdc['95pct'] = np.array([1333, 4800, 11428, 13659, 14948, 16630, 18487, 20854, 24966, 25586]) * scaling_mdc"
   ]
  },
  {
   "cell_type": "code",
   "execution_count": 22,
   "metadata": {},
   "outputs": [
    {
     "data": {
      "image/png": "[encoded data removed]",
      "text/plain": [
       "<Figure size 343.711x212.425 with 1 Axes>"
      ]
     },
     "metadata": {
      "needs_background": "light"
     },
     "output_type": "display_data"
    }
   ],
   "source": [
    "fig, ax = plt.subplots(1, 1, figsize=set_size(width))\n",
    "## plot Pair-Elim\n",
    "ax.errorbar(Ns_mdc, \n",
    "            mdc['mean'],\n",
    "            yerr=[mdc['mean'] - mdc['5pct'],\n",
    "                  mdc['95pct'] - mdc['mean']],\n",
    "            label='MDC',\n",
    "            fmt='o', color='black', ecolor='lightgray', elinewidth=3, capsize=0)\n",
    "#ax.plot(Ns_mdc, upper_bound, 'r--', label=r'$N\\log N \\log T$')\n",
    "ax.set_ylabel(r'$R(T)\\Delta_{min}$')\n",
    "ax.set_xlabel(r\"$N$\")\n",
    "#ax.legend(loc=2)\n",
    "plt.xticks(Ns_mdc, Ns_mdc)\n",
    "plt.show()\n",
    "fig.savefig('../figures/matching_NlogN.pdf', format='pdf', bbox_inches='tight')"
   ]
  },
  {
   "cell_type": "markdown",
   "metadata": {},
   "source": [
    "## linear spaced parameter values"
   ]
  },
  {
   "cell_type": "code",
   "execution_count": 23,
   "metadata": {},
   "outputs": [],
   "source": [
    "Ns_mdc = [2, 3, 4, 5, 6, 7, 8, 9, 10]\n",
    "Ns_escb = [2, 3, 4]\n",
    "\n",
    "scaling_mdc = (1 / (np.array(Ns_mdc) - 1))**2\n",
    "scaling_escb = (1 / (np.array(Ns_escb) - 1))**2\n",
    "\n",
    "\n",
    "mdc = {}\n",
    "mdc['mean'] = np.array([294, 518, 1230, 2259, 4179, 6104, 8812, 14049, 18707]) * scaling_mdc\n",
    "mdc['5pct'] = np.array([294, 506, 1143, 2233, 4122, 5928, 8455, 13434, 18505]) * scaling_mdc\n",
    "mdc['95pct'] = np.array([294, 531, 1285, 2279, 4261, 6347, 9186, 14635, 19007]) * scaling_mdc\n",
    "escb = {}\n",
    "escb['mean'] = np.array([30, 241, 888]) * scaling_escb\n",
    "escb['5pct'] = np.array([30, 227, 819]) * scaling_escb\n",
    "escb['95pct'] = np.array([30, 262, 917]) * scaling_escb"
   ]
  },
  {
   "cell_type": "code",
   "execution_count": 24,
   "metadata": {},
   "outputs": [
    {
     "data": {
      "image/png": "[encoded data removed]",
      "text/plain": [
       "<Figure size 343.711x212.425 with 1 Axes>"
      ]
     },
     "metadata": {
      "needs_background": "light"
     },
     "output_type": "display_data"
    }
   ],
   "source": [
    "# scaling\n",
    "fig, ax = plt.subplots(1, 1, figsize=set_size(width))\n",
    "## plot Pair-Elim\n",
    "ax.errorbar(Ns_mdc, \n",
    "            mdc['mean'],\n",
    "            yerr=[mdc['mean'] - mdc['5pct'],\n",
    "                  mdc['95pct'] - mdc['mean']],\n",
    "            label='SAM',\n",
    "            fmt='o', color='C0', ecolor='lightsteelblue', elinewidth=3, capsize=0)\n",
    "\n",
    "\n",
    "ax.errorbar(Ns_escb, \n",
    "            escb['mean'],\n",
    "            yerr=[escb['mean'] - escb['5pct'],\n",
    "                  escb['95pct'] - escb['mean']],\n",
    "            label='ESCB',\n",
    "            fmt='o', color='C1', ecolor='bisque', elinewidth=3, capsize=0)\n",
    "\n",
    "ax.set_ylabel(r\"$R(T)\\Delta_{min}$\")\n",
    "ax.set_xlabel(r\"$N$\")\n",
    "plt.xticks(Ns_mdc, Ns_mdc)\n",
    "ax.legend(loc=4)\n",
    "plt.show()\n",
    "#fig.savefig('../figures/matching_NlogN_linear_spaced.pdf', format='pdf', bbox_inches='tight')"
   ]
  },
  {
   "cell_type": "code",
   "execution_count": null,
   "metadata": {},
   "outputs": [],
   "source": []
  }
 ],
 "metadata": {
  "kernelspec": {
   "display_name": "Python 3",
   "language": "python",
   "name": "python3"
  },
  "language_info": {
   "codemirror_mode": {
    "name": "ipython",
    "version": 3
   },
   "file_extension": ".py",
   "mimetype": "text/x-python",
   "name": "python",
   "nbconvert_exporter": "python",
   "pygments_lexer": "ipython3",
   "version": "3.8.5"
  }
 },
 "nbformat": 4,
 "nbformat_minor": 4
}
